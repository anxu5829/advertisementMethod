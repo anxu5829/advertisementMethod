{
 "cells": [
  {
   "cell_type": "markdown",
   "metadata": {},
   "source": [
    "步骤一：读入train和test"
   ]
  },
  {
   "cell_type": "code",
   "execution_count": 4,
   "metadata": {
    "collapsed": false
   },
   "outputs": [
    {
     "data": {
      "text/plain": [
       "'F:\\\\项目\\\\阿里妈妈'"
      ]
     },
     "execution_count": 4,
     "metadata": {},
     "output_type": "execute_result"
    }
   ],
   "source": [
    "import os\n",
    "import pandas as pd\n",
    "os.chdir(\"F:\\\\项目\\\\阿里妈妈\")   #修改当前工作目录\n",
    "os.getcwd()    #获取当前工作目录"
   ]
  },
  {
   "cell_type": "code",
   "execution_count": 11,
   "metadata": {
    "collapsed": false
   },
   "outputs": [
    {
     "name": "stdout",
     "output_type": "stream",
     "text": [
      "(478138, 27)\n",
      "(18371, 26)\n"
     ]
    }
   ],
   "source": [
    "data_train = pd.read_table('round1_ijcai_18_train_20180301.txt',header=0,encoding='gb2312',delim_whitespace=True)\n",
    "data_test=pd.read_table('round1_ijcai_18_test_a_20180301.txt',header=0,encoding='gb2312',delim_whitespace=True)\n",
    "print(data_train.shape)\n",
    "print(data_test.shape)"
   ]
  },
  {
   "cell_type": "markdown",
   "metadata": {},
   "source": [
    "步骤二：train和test整理的EDA"
   ]
  },
  {
   "cell_type": "code",
   "execution_count": 27,
   "metadata": {
    "collapsed": false
   },
   "outputs": [
    {
     "data": {
      "text/html": [
       "<div>\n",
       "<table border=\"1\" class=\"dataframe\">\n",
       "  <thead>\n",
       "    <tr style=\"text-align: right;\">\n",
       "      <th></th>\n",
       "      <th>instance_id</th>\n",
       "      <th>item_id</th>\n",
       "      <th>item_brand_id</th>\n",
       "      <th>item_city_id</th>\n",
       "      <th>item_price_level</th>\n",
       "      <th>item_sales_level</th>\n",
       "      <th>item_collected_level</th>\n",
       "      <th>item_pv_level</th>\n",
       "      <th>user_id</th>\n",
       "      <th>user_gender_id</th>\n",
       "      <th>...</th>\n",
       "      <th>context_timestamp</th>\n",
       "      <th>context_page_id</th>\n",
       "      <th>shop_id</th>\n",
       "      <th>shop_review_num_level</th>\n",
       "      <th>shop_review_positive_rate</th>\n",
       "      <th>shop_star_level</th>\n",
       "      <th>shop_score_service</th>\n",
       "      <th>shop_score_delivery</th>\n",
       "      <th>shop_score_description</th>\n",
       "      <th>is_trade</th>\n",
       "    </tr>\n",
       "  </thead>\n",
       "  <tbody>\n",
       "    <tr>\n",
       "      <th>count</th>\n",
       "      <td>4.781380e+05</td>\n",
       "      <td>4.781380e+05</td>\n",
       "      <td>4.781380e+05</td>\n",
       "      <td>4.781380e+05</td>\n",
       "      <td>478138.000000</td>\n",
       "      <td>478138.00000</td>\n",
       "      <td>478138.000000</td>\n",
       "      <td>478138.000000</td>\n",
       "      <td>4.781380e+05</td>\n",
       "      <td>478138.000000</td>\n",
       "      <td>...</td>\n",
       "      <td>4.781380e+05</td>\n",
       "      <td>478138.000000</td>\n",
       "      <td>4.781380e+05</td>\n",
       "      <td>478138.000000</td>\n",
       "      <td>478138.000000</td>\n",
       "      <td>478138.000000</td>\n",
       "      <td>478138.000000</td>\n",
       "      <td>478138.000000</td>\n",
       "      <td>478138.000000</td>\n",
       "      <td>478138.000000</td>\n",
       "    </tr>\n",
       "    <tr>\n",
       "      <th>mean</th>\n",
       "      <td>4.613082e+18</td>\n",
       "      <td>4.594622e+18</td>\n",
       "      <td>4.838444e+18</td>\n",
       "      <td>5.500420e+18</td>\n",
       "      <td>6.777175</td>\n",
       "      <td>11.13384</td>\n",
       "      <td>12.199336</td>\n",
       "      <td>17.128676</td>\n",
       "      <td>4.609864e+18</td>\n",
       "      <td>0.213047</td>\n",
       "      <td>...</td>\n",
       "      <td>1.537502e+09</td>\n",
       "      <td>4003.362366</td>\n",
       "      <td>4.733842e+18</td>\n",
       "      <td>15.768353</td>\n",
       "      <td>0.994830</td>\n",
       "      <td>5013.175240</td>\n",
       "      <td>0.971124</td>\n",
       "      <td>0.970497</td>\n",
       "      <td>0.974863</td>\n",
       "      <td>0.018867</td>\n",
       "    </tr>\n",
       "    <tr>\n",
       "      <th>std</th>\n",
       "      <td>2.663448e+18</td>\n",
       "      <td>2.710140e+18</td>\n",
       "      <td>2.694756e+18</td>\n",
       "      <td>2.464881e+18</td>\n",
       "      <td>1.089037</td>\n",
       "      <td>2.58886</td>\n",
       "      <td>2.497312</td>\n",
       "      <td>2.160745</td>\n",
       "      <td>2.663355e+18</td>\n",
       "      <td>0.514699</td>\n",
       "      <td>...</td>\n",
       "      <td>1.726222e+05</td>\n",
       "      <td>4.019709</td>\n",
       "      <td>2.596118e+18</td>\n",
       "      <td>2.825294</td>\n",
       "      <td>0.011972</td>\n",
       "      <td>2.590989</td>\n",
       "      <td>0.023817</td>\n",
       "      <td>0.023776</td>\n",
       "      <td>0.025024</td>\n",
       "      <td>0.136055</td>\n",
       "    </tr>\n",
       "    <tr>\n",
       "      <th>min</th>\n",
       "      <td>3.823219e+12</td>\n",
       "      <td>6.964907e+14</td>\n",
       "      <td>-1.000000e+00</td>\n",
       "      <td>-1.000000e+00</td>\n",
       "      <td>0.000000</td>\n",
       "      <td>-1.00000</td>\n",
       "      <td>0.000000</td>\n",
       "      <td>0.000000</td>\n",
       "      <td>2.477979e+13</td>\n",
       "      <td>-1.000000</td>\n",
       "      <td>...</td>\n",
       "      <td>1.537200e+09</td>\n",
       "      <td>4001.000000</td>\n",
       "      <td>1.543560e+15</td>\n",
       "      <td>0.000000</td>\n",
       "      <td>-1.000000</td>\n",
       "      <td>4999.000000</td>\n",
       "      <td>-1.000000</td>\n",
       "      <td>-1.000000</td>\n",
       "      <td>-1.000000</td>\n",
       "      <td>0.000000</td>\n",
       "    </tr>\n",
       "    <tr>\n",
       "      <th>25%</th>\n",
       "      <td>2.308543e+18</td>\n",
       "      <td>2.251088e+18</td>\n",
       "      <td>2.357806e+18</td>\n",
       "      <td>3.948283e+18</td>\n",
       "      <td>6.000000</td>\n",
       "      <td>10.00000</td>\n",
       "      <td>11.000000</td>\n",
       "      <td>16.000000</td>\n",
       "      <td>2.302761e+18</td>\n",
       "      <td>0.000000</td>\n",
       "      <td>...</td>\n",
       "      <td>1.537351e+09</td>\n",
       "      <td>4001.000000</td>\n",
       "      <td>2.498543e+18</td>\n",
       "      <td>14.000000</td>\n",
       "      <td>0.992779</td>\n",
       "      <td>5012.000000</td>\n",
       "      <td>0.966360</td>\n",
       "      <td>0.965684</td>\n",
       "      <td>0.969268</td>\n",
       "      <td>0.000000</td>\n",
       "    </tr>\n",
       "    <tr>\n",
       "      <th>50%</th>\n",
       "      <td>4.613478e+18</td>\n",
       "      <td>4.636270e+18</td>\n",
       "      <td>5.051040e+18</td>\n",
       "      <td>6.738284e+18</td>\n",
       "      <td>7.000000</td>\n",
       "      <td>11.00000</td>\n",
       "      <td>12.000000</td>\n",
       "      <td>17.000000</td>\n",
       "      <td>4.608490e+18</td>\n",
       "      <td>0.000000</td>\n",
       "      <td>...</td>\n",
       "      <td>1.537506e+09</td>\n",
       "      <td>4001.000000</td>\n",
       "      <td>4.629590e+18</td>\n",
       "      <td>16.000000</td>\n",
       "      <td>1.000000</td>\n",
       "      <td>5013.000000</td>\n",
       "      <td>0.972347</td>\n",
       "      <td>0.971590</td>\n",
       "      <td>0.978493</td>\n",
       "      <td>0.000000</td>\n",
       "    </tr>\n",
       "    <tr>\n",
       "      <th>75%</th>\n",
       "      <td>6.920994e+18</td>\n",
       "      <td>7.007158e+18</td>\n",
       "      <td>7.565625e+18</td>\n",
       "      <td>7.534239e+18</td>\n",
       "      <td>8.000000</td>\n",
       "      <td>13.00000</td>\n",
       "      <td>14.000000</td>\n",
       "      <td>19.000000</td>\n",
       "      <td>6.914375e+18</td>\n",
       "      <td>0.000000</td>\n",
       "      <td>...</td>\n",
       "      <td>1.537635e+09</td>\n",
       "      <td>4004.000000</td>\n",
       "      <td>6.740687e+18</td>\n",
       "      <td>17.000000</td>\n",
       "      <td>1.000000</td>\n",
       "      <td>5015.000000</td>\n",
       "      <td>0.977822</td>\n",
       "      <td>0.976978</td>\n",
       "      <td>0.983640</td>\n",
       "      <td>0.000000</td>\n",
       "    </tr>\n",
       "    <tr>\n",
       "      <th>max</th>\n",
       "      <td>9.223362e+18</td>\n",
       "      <td>9.221980e+18</td>\n",
       "      <td>9.222396e+18</td>\n",
       "      <td>9.151271e+18</td>\n",
       "      <td>17.000000</td>\n",
       "      <td>17.00000</td>\n",
       "      <td>17.000000</td>\n",
       "      <td>21.000000</td>\n",
       "      <td>9.223345e+18</td>\n",
       "      <td>2.000000</td>\n",
       "      <td>...</td>\n",
       "      <td>1.537805e+09</td>\n",
       "      <td>4020.000000</td>\n",
       "      <td>9.220773e+18</td>\n",
       "      <td>25.000000</td>\n",
       "      <td>1.000000</td>\n",
       "      <td>5020.000000</td>\n",
       "      <td>1.000000</td>\n",
       "      <td>1.000000</td>\n",
       "      <td>1.000000</td>\n",
       "      <td>1.000000</td>\n",
       "    </tr>\n",
       "  </tbody>\n",
       "</table>\n",
       "<p>8 rows × 24 columns</p>\n",
       "</div>"
      ],
      "text/plain": [
       "        instance_id       item_id  item_brand_id  item_city_id  \\\n",
       "count  4.781380e+05  4.781380e+05   4.781380e+05  4.781380e+05   \n",
       "mean   4.613082e+18  4.594622e+18   4.838444e+18  5.500420e+18   \n",
       "std    2.663448e+18  2.710140e+18   2.694756e+18  2.464881e+18   \n",
       "min    3.823219e+12  6.964907e+14  -1.000000e+00 -1.000000e+00   \n",
       "25%    2.308543e+18  2.251088e+18   2.357806e+18  3.948283e+18   \n",
       "50%    4.613478e+18  4.636270e+18   5.051040e+18  6.738284e+18   \n",
       "75%    6.920994e+18  7.007158e+18   7.565625e+18  7.534239e+18   \n",
       "max    9.223362e+18  9.221980e+18   9.222396e+18  9.151271e+18   \n",
       "\n",
       "       item_price_level  item_sales_level  item_collected_level  \\\n",
       "count     478138.000000      478138.00000         478138.000000   \n",
       "mean           6.777175          11.13384             12.199336   \n",
       "std            1.089037           2.58886              2.497312   \n",
       "min            0.000000          -1.00000              0.000000   \n",
       "25%            6.000000          10.00000             11.000000   \n",
       "50%            7.000000          11.00000             12.000000   \n",
       "75%            8.000000          13.00000             14.000000   \n",
       "max           17.000000          17.00000             17.000000   \n",
       "\n",
       "       item_pv_level       user_id  user_gender_id      ...        \\\n",
       "count  478138.000000  4.781380e+05   478138.000000      ...         \n",
       "mean       17.128676  4.609864e+18        0.213047      ...         \n",
       "std         2.160745  2.663355e+18        0.514699      ...         \n",
       "min         0.000000  2.477979e+13       -1.000000      ...         \n",
       "25%        16.000000  2.302761e+18        0.000000      ...         \n",
       "50%        17.000000  4.608490e+18        0.000000      ...         \n",
       "75%        19.000000  6.914375e+18        0.000000      ...         \n",
       "max        21.000000  9.223345e+18        2.000000      ...         \n",
       "\n",
       "       context_timestamp  context_page_id       shop_id  \\\n",
       "count       4.781380e+05    478138.000000  4.781380e+05   \n",
       "mean        1.537502e+09      4003.362366  4.733842e+18   \n",
       "std         1.726222e+05         4.019709  2.596118e+18   \n",
       "min         1.537200e+09      4001.000000  1.543560e+15   \n",
       "25%         1.537351e+09      4001.000000  2.498543e+18   \n",
       "50%         1.537506e+09      4001.000000  4.629590e+18   \n",
       "75%         1.537635e+09      4004.000000  6.740687e+18   \n",
       "max         1.537805e+09      4020.000000  9.220773e+18   \n",
       "\n",
       "       shop_review_num_level  shop_review_positive_rate  shop_star_level  \\\n",
       "count          478138.000000              478138.000000    478138.000000   \n",
       "mean               15.768353                   0.994830      5013.175240   \n",
       "std                 2.825294                   0.011972         2.590989   \n",
       "min                 0.000000                  -1.000000      4999.000000   \n",
       "25%                14.000000                   0.992779      5012.000000   \n",
       "50%                16.000000                   1.000000      5013.000000   \n",
       "75%                17.000000                   1.000000      5015.000000   \n",
       "max                25.000000                   1.000000      5020.000000   \n",
       "\n",
       "       shop_score_service  shop_score_delivery  shop_score_description  \\\n",
       "count       478138.000000        478138.000000           478138.000000   \n",
       "mean             0.971124             0.970497                0.974863   \n",
       "std              0.023817             0.023776                0.025024   \n",
       "min             -1.000000            -1.000000               -1.000000   \n",
       "25%              0.966360             0.965684                0.969268   \n",
       "50%              0.972347             0.971590                0.978493   \n",
       "75%              0.977822             0.976978                0.983640   \n",
       "max              1.000000             1.000000                1.000000   \n",
       "\n",
       "            is_trade  \n",
       "count  478138.000000  \n",
       "mean        0.018867  \n",
       "std         0.136055  \n",
       "min         0.000000  \n",
       "25%         0.000000  \n",
       "50%         0.000000  \n",
       "75%         0.000000  \n",
       "max         1.000000  \n",
       "\n",
       "[8 rows x 24 columns]"
      ]
     },
     "execution_count": 27,
     "metadata": {},
     "output_type": "execute_result"
    }
   ],
   "source": [
    "data_train.describe()"
   ]
  },
  {
   "cell_type": "code",
   "execution_count": 10,
   "metadata": {
    "collapsed": false
   },
   "outputs": [
    {
     "data": {
      "text/html": [
       "<div>\n",
       "<table border=\"1\" class=\"dataframe\">\n",
       "  <thead>\n",
       "    <tr style=\"text-align: right;\">\n",
       "      <th></th>\n",
       "      <th>instance_id</th>\n",
       "      <th>item_id</th>\n",
       "      <th>item_brand_id</th>\n",
       "      <th>item_city_id</th>\n",
       "      <th>item_price_level</th>\n",
       "      <th>item_sales_level</th>\n",
       "      <th>item_collected_level</th>\n",
       "      <th>item_pv_level</th>\n",
       "      <th>user_id</th>\n",
       "      <th>user_gender_id</th>\n",
       "      <th>...</th>\n",
       "      <th>context_id</th>\n",
       "      <th>context_timestamp</th>\n",
       "      <th>context_page_id</th>\n",
       "      <th>shop_id</th>\n",
       "      <th>shop_review_num_level</th>\n",
       "      <th>shop_review_positive_rate</th>\n",
       "      <th>shop_star_level</th>\n",
       "      <th>shop_score_service</th>\n",
       "      <th>shop_score_delivery</th>\n",
       "      <th>shop_score_description</th>\n",
       "    </tr>\n",
       "  </thead>\n",
       "  <tbody>\n",
       "    <tr>\n",
       "      <th>count</th>\n",
       "      <td>1.837100e+04</td>\n",
       "      <td>1.837100e+04</td>\n",
       "      <td>1.837100e+04</td>\n",
       "      <td>1.837100e+04</td>\n",
       "      <td>18371.000000</td>\n",
       "      <td>18371.000000</td>\n",
       "      <td>18371.000000</td>\n",
       "      <td>18371.000000</td>\n",
       "      <td>1.837100e+04</td>\n",
       "      <td>18371.000000</td>\n",
       "      <td>...</td>\n",
       "      <td>1.837100e+04</td>\n",
       "      <td>1.837100e+04</td>\n",
       "      <td>18371.000000</td>\n",
       "      <td>1.837100e+04</td>\n",
       "      <td>18371.000000</td>\n",
       "      <td>18371.000000</td>\n",
       "      <td>18371.000000</td>\n",
       "      <td>18371.000000</td>\n",
       "      <td>18371.000000</td>\n",
       "      <td>18371.000000</td>\n",
       "    </tr>\n",
       "    <tr>\n",
       "      <th>mean</th>\n",
       "      <td>4.607419e+18</td>\n",
       "      <td>4.582686e+18</td>\n",
       "      <td>4.845199e+18</td>\n",
       "      <td>5.557806e+18</td>\n",
       "      <td>6.837951</td>\n",
       "      <td>11.109194</td>\n",
       "      <td>12.228621</td>\n",
       "      <td>17.035382</td>\n",
       "      <td>4.594443e+18</td>\n",
       "      <td>0.220946</td>\n",
       "      <td>...</td>\n",
       "      <td>4.642666e+18</td>\n",
       "      <td>1.537862e+09</td>\n",
       "      <td>4003.377171</td>\n",
       "      <td>4.717927e+18</td>\n",
       "      <td>15.816123</td>\n",
       "      <td>0.994915</td>\n",
       "      <td>5013.228948</td>\n",
       "      <td>0.971321</td>\n",
       "      <td>0.970459</td>\n",
       "      <td>0.975041</td>\n",
       "    </tr>\n",
       "    <tr>\n",
       "      <th>std</th>\n",
       "      <td>2.674410e+18</td>\n",
       "      <td>2.700034e+18</td>\n",
       "      <td>2.707568e+18</td>\n",
       "      <td>2.444534e+18</td>\n",
       "      <td>1.046772</td>\n",
       "      <td>2.666971</td>\n",
       "      <td>2.549283</td>\n",
       "      <td>2.237930</td>\n",
       "      <td>2.665790e+18</td>\n",
       "      <td>0.516688</td>\n",
       "      <td>...</td>\n",
       "      <td>2.661417e+18</td>\n",
       "      <td>1.937280e+04</td>\n",
       "      <td>4.022065</td>\n",
       "      <td>2.604679e+18</td>\n",
       "      <td>2.879969</td>\n",
       "      <td>0.008981</td>\n",
       "      <td>2.646194</td>\n",
       "      <td>0.017264</td>\n",
       "      <td>0.017252</td>\n",
       "      <td>0.018832</td>\n",
       "    </tr>\n",
       "    <tr>\n",
       "      <th>min</th>\n",
       "      <td>1.772728e+14</td>\n",
       "      <td>1.097631e+15</td>\n",
       "      <td>-1.000000e+00</td>\n",
       "      <td>-1.000000e+00</td>\n",
       "      <td>1.000000</td>\n",
       "      <td>-1.000000</td>\n",
       "      <td>0.000000</td>\n",
       "      <td>0.000000</td>\n",
       "      <td>1.794514e+14</td>\n",
       "      <td>-1.000000</td>\n",
       "      <td>...</td>\n",
       "      <td>1.120952e+13</td>\n",
       "      <td>1.537805e+09</td>\n",
       "      <td>4001.000000</td>\n",
       "      <td>1.205713e+16</td>\n",
       "      <td>1.000000</td>\n",
       "      <td>0.870588</td>\n",
       "      <td>5000.000000</td>\n",
       "      <td>-1.000000</td>\n",
       "      <td>-1.000000</td>\n",
       "      <td>-1.000000</td>\n",
       "    </tr>\n",
       "    <tr>\n",
       "      <th>25%</th>\n",
       "      <td>2.287309e+18</td>\n",
       "      <td>2.251088e+18</td>\n",
       "      <td>2.351872e+18</td>\n",
       "      <td>3.948283e+18</td>\n",
       "      <td>6.000000</td>\n",
       "      <td>10.000000</td>\n",
       "      <td>11.000000</td>\n",
       "      <td>16.000000</td>\n",
       "      <td>2.300070e+18</td>\n",
       "      <td>0.000000</td>\n",
       "      <td>...</td>\n",
       "      <td>2.369361e+18</td>\n",
       "      <td>1.537848e+09</td>\n",
       "      <td>4001.000000</td>\n",
       "      <td>2.527080e+18</td>\n",
       "      <td>14.000000</td>\n",
       "      <td>0.992824</td>\n",
       "      <td>5012.000000</td>\n",
       "      <td>0.966399</td>\n",
       "      <td>0.965516</td>\n",
       "      <td>0.969490</td>\n",
       "    </tr>\n",
       "    <tr>\n",
       "      <th>50%</th>\n",
       "      <td>4.627598e+18</td>\n",
       "      <td>4.668472e+18</td>\n",
       "      <td>5.051040e+18</td>\n",
       "      <td>7.322157e+18</td>\n",
       "      <td>7.000000</td>\n",
       "      <td>11.000000</td>\n",
       "      <td>13.000000</td>\n",
       "      <td>17.000000</td>\n",
       "      <td>4.566476e+18</td>\n",
       "      <td>0.000000</td>\n",
       "      <td>...</td>\n",
       "      <td>4.655476e+18</td>\n",
       "      <td>1.537863e+09</td>\n",
       "      <td>4001.000000</td>\n",
       "      <td>4.598382e+18</td>\n",
       "      <td>16.000000</td>\n",
       "      <td>1.000000</td>\n",
       "      <td>5013.000000</td>\n",
       "      <td>0.972481</td>\n",
       "      <td>0.971511</td>\n",
       "      <td>0.978514</td>\n",
       "    </tr>\n",
       "    <tr>\n",
       "      <th>75%</th>\n",
       "      <td>6.928380e+18</td>\n",
       "      <td>7.002632e+18</td>\n",
       "      <td>7.555983e+18</td>\n",
       "      <td>7.534239e+18</td>\n",
       "      <td>8.000000</td>\n",
       "      <td>13.000000</td>\n",
       "      <td>14.000000</td>\n",
       "      <td>19.000000</td>\n",
       "      <td>6.893871e+18</td>\n",
       "      <td>0.000000</td>\n",
       "      <td>...</td>\n",
       "      <td>6.932690e+18</td>\n",
       "      <td>1.537878e+09</td>\n",
       "      <td>4004.000000</td>\n",
       "      <td>6.740687e+18</td>\n",
       "      <td>18.000000</td>\n",
       "      <td>1.000000</td>\n",
       "      <td>5015.000000</td>\n",
       "      <td>0.977937</td>\n",
       "      <td>0.976823</td>\n",
       "      <td>0.983543</td>\n",
       "    </tr>\n",
       "    <tr>\n",
       "      <th>max</th>\n",
       "      <td>9.222350e+18</td>\n",
       "      <td>9.221980e+18</td>\n",
       "      <td>9.222396e+18</td>\n",
       "      <td>9.151271e+18</td>\n",
       "      <td>10.000000</td>\n",
       "      <td>17.000000</td>\n",
       "      <td>17.000000</td>\n",
       "      <td>21.000000</td>\n",
       "      <td>9.222798e+18</td>\n",
       "      <td>2.000000</td>\n",
       "      <td>...</td>\n",
       "      <td>9.223243e+18</td>\n",
       "      <td>1.537891e+09</td>\n",
       "      <td>4020.000000</td>\n",
       "      <td>9.220773e+18</td>\n",
       "      <td>23.000000</td>\n",
       "      <td>1.000000</td>\n",
       "      <td>5020.000000</td>\n",
       "      <td>1.000000</td>\n",
       "      <td>1.000000</td>\n",
       "      <td>1.000000</td>\n",
       "    </tr>\n",
       "  </tbody>\n",
       "</table>\n",
       "<p>8 rows × 23 columns</p>\n",
       "</div>"
      ],
      "text/plain": [
       "        instance_id       item_id  item_brand_id  item_city_id  \\\n",
       "count  1.837100e+04  1.837100e+04   1.837100e+04  1.837100e+04   \n",
       "mean   4.607419e+18  4.582686e+18   4.845199e+18  5.557806e+18   \n",
       "std    2.674410e+18  2.700034e+18   2.707568e+18  2.444534e+18   \n",
       "min    1.772728e+14  1.097631e+15  -1.000000e+00 -1.000000e+00   \n",
       "25%    2.287309e+18  2.251088e+18   2.351872e+18  3.948283e+18   \n",
       "50%    4.627598e+18  4.668472e+18   5.051040e+18  7.322157e+18   \n",
       "75%    6.928380e+18  7.002632e+18   7.555983e+18  7.534239e+18   \n",
       "max    9.222350e+18  9.221980e+18   9.222396e+18  9.151271e+18   \n",
       "\n",
       "       item_price_level  item_sales_level  item_collected_level  \\\n",
       "count      18371.000000      18371.000000          18371.000000   \n",
       "mean           6.837951         11.109194             12.228621   \n",
       "std            1.046772          2.666971              2.549283   \n",
       "min            1.000000         -1.000000              0.000000   \n",
       "25%            6.000000         10.000000             11.000000   \n",
       "50%            7.000000         11.000000             13.000000   \n",
       "75%            8.000000         13.000000             14.000000   \n",
       "max           10.000000         17.000000             17.000000   \n",
       "\n",
       "       item_pv_level       user_id  user_gender_id           ...            \\\n",
       "count   18371.000000  1.837100e+04    18371.000000           ...             \n",
       "mean       17.035382  4.594443e+18        0.220946           ...             \n",
       "std         2.237930  2.665790e+18        0.516688           ...             \n",
       "min         0.000000  1.794514e+14       -1.000000           ...             \n",
       "25%        16.000000  2.300070e+18        0.000000           ...             \n",
       "50%        17.000000  4.566476e+18        0.000000           ...             \n",
       "75%        19.000000  6.893871e+18        0.000000           ...             \n",
       "max        21.000000  9.222798e+18        2.000000           ...             \n",
       "\n",
       "         context_id  context_timestamp  context_page_id       shop_id  \\\n",
       "count  1.837100e+04       1.837100e+04     18371.000000  1.837100e+04   \n",
       "mean   4.642666e+18       1.537862e+09      4003.377171  4.717927e+18   \n",
       "std    2.661417e+18       1.937280e+04         4.022065  2.604679e+18   \n",
       "min    1.120952e+13       1.537805e+09      4001.000000  1.205713e+16   \n",
       "25%    2.369361e+18       1.537848e+09      4001.000000  2.527080e+18   \n",
       "50%    4.655476e+18       1.537863e+09      4001.000000  4.598382e+18   \n",
       "75%    6.932690e+18       1.537878e+09      4004.000000  6.740687e+18   \n",
       "max    9.223243e+18       1.537891e+09      4020.000000  9.220773e+18   \n",
       "\n",
       "       shop_review_num_level  shop_review_positive_rate  shop_star_level  \\\n",
       "count           18371.000000               18371.000000     18371.000000   \n",
       "mean               15.816123                   0.994915      5013.228948   \n",
       "std                 2.879969                   0.008981         2.646194   \n",
       "min                 1.000000                   0.870588      5000.000000   \n",
       "25%                14.000000                   0.992824      5012.000000   \n",
       "50%                16.000000                   1.000000      5013.000000   \n",
       "75%                18.000000                   1.000000      5015.000000   \n",
       "max                23.000000                   1.000000      5020.000000   \n",
       "\n",
       "       shop_score_service  shop_score_delivery  shop_score_description  \n",
       "count        18371.000000         18371.000000            18371.000000  \n",
       "mean             0.971321             0.970459                0.975041  \n",
       "std              0.017264             0.017252                0.018832  \n",
       "min             -1.000000            -1.000000               -1.000000  \n",
       "25%              0.966399             0.965516                0.969490  \n",
       "50%              0.972481             0.971511                0.978514  \n",
       "75%              0.977937             0.976823                0.983543  \n",
       "max              1.000000             1.000000                1.000000  \n",
       "\n",
       "[8 rows x 23 columns]"
      ]
     },
     "execution_count": 10,
     "metadata": {},
     "output_type": "execute_result"
    }
   ],
   "source": [
    "data_test.describe()"
   ]
  },
  {
   "cell_type": "code",
   "execution_count": 31,
   "metadata": {
    "collapsed": false
   },
   "outputs": [
    {
     "data": {
      "text/plain": [
       "instance_id                  478138\n",
       "item_id                      478138\n",
       "item_category_list           478138\n",
       "item_property_list           478138\n",
       "item_brand_id                478138\n",
       "item_city_id                 478138\n",
       "item_price_level             478138\n",
       "item_sales_level             478138\n",
       "item_collected_level         478138\n",
       "item_pv_level                478138\n",
       "user_id                      478138\n",
       "user_gender_id               478138\n",
       "user_age_level               478138\n",
       "user_occupation_id           478138\n",
       "user_star_level              478138\n",
       "context_id                   478138\n",
       "context_timestamp            478138\n",
       "context_page_id              478138\n",
       "predict_category_property    478138\n",
       "shop_id                      478138\n",
       "shop_review_num_level        478138\n",
       "shop_review_positive_rate    478138\n",
       "shop_star_level              478138\n",
       "shop_score_service           478138\n",
       "shop_score_delivery          478138\n",
       "shop_score_description       478138\n",
       "is_trade                     478138\n",
       "dtype: int64"
      ]
     },
     "execution_count": 31,
     "metadata": {},
     "output_type": "execute_result"
    }
   ],
   "source": [
    "data_train.count()"
   ]
  },
  {
   "cell_type": "code",
   "execution_count": 32,
   "metadata": {
    "collapsed": false,
    "scrolled": true
   },
   "outputs": [
    {
     "data": {
      "text/plain": [
       "instance_id                  18371\n",
       "item_id                      18371\n",
       "item_category_list           18371\n",
       "item_property_list           18371\n",
       "item_brand_id                18371\n",
       "item_city_id                 18371\n",
       "item_price_level             18371\n",
       "item_sales_level             18371\n",
       "item_collected_level         18371\n",
       "item_pv_level                18371\n",
       "user_id                      18371\n",
       "user_gender_id               18371\n",
       "user_age_level               18371\n",
       "user_occupation_id           18371\n",
       "user_star_level              18371\n",
       "context_id                   18371\n",
       "context_timestamp            18371\n",
       "context_page_id              18371\n",
       "predict_category_property    18371\n",
       "shop_id                      18371\n",
       "shop_review_num_level        18371\n",
       "shop_review_positive_rate    18371\n",
       "shop_star_level              18371\n",
       "shop_score_service           18371\n",
       "shop_score_delivery          18371\n",
       "shop_score_description       18371\n",
       "dtype: int64"
      ]
     },
     "execution_count": 32,
     "metadata": {},
     "output_type": "execute_result"
    }
   ],
   "source": [
    "data_test.count()"
   ]
  },
  {
   "cell_type": "markdown",
   "metadata": {},
   "source": [
    "##train和test都没有缺失"
   ]
  },
  {
   "cell_type": "code",
   "execution_count": 13,
   "metadata": {
    "collapsed": false
   },
   "outputs": [
    {
     "data": {
      "text/plain": [
       "instance_id                  478087\n",
       "item_id                       10075\n",
       "item_category_list               14\n",
       "item_property_list            10908\n",
       "item_brand_id                  2055\n",
       "item_city_id                    128\n",
       "item_price_level                 14\n",
       "item_sales_level                 18\n",
       "item_collected_level             18\n",
       "item_pv_level                    22\n",
       "user_id                      197694\n",
       "user_gender_id                    4\n",
       "user_age_level                    9\n",
       "user_occupation_id                5\n",
       "user_star_level                  12\n",
       "context_id                   478111\n",
       "context_timestamp            281824\n",
       "context_page_id                  20\n",
       "predict_category_property     78796\n",
       "shop_id                        3959\n",
       "shop_review_num_level            25\n",
       "shop_review_positive_rate     11825\n",
       "shop_star_level                  22\n",
       "shop_score_service            16361\n",
       "shop_score_delivery           16423\n",
       "shop_score_description        16463\n",
       "is_trade                          2\n",
       "dtype: int64"
      ]
     },
     "execution_count": 13,
     "metadata": {},
     "output_type": "execute_result"
    }
   ],
   "source": [
    "distinct_count_train=data_train.apply(lambda x: len(x.value_counts()))\n",
    "distinct_count_train"
   ]
  },
  {
   "cell_type": "code",
   "execution_count": 15,
   "metadata": {
    "collapsed": false
   },
   "outputs": [
    {
     "data": {
      "text/plain": [
       "instance_id                  18371\n",
       "item_id                       3695\n",
       "item_category_list              14\n",
       "item_property_list            3690\n",
       "item_brand_id                 1101\n",
       "item_city_id                    99\n",
       "item_price_level                10\n",
       "item_sales_level                18\n",
       "item_collected_level            18\n",
       "item_pv_level                   21\n",
       "user_id                      13573\n",
       "user_gender_id                   4\n",
       "user_age_level                   9\n",
       "user_occupation_id               5\n",
       "user_star_level                 12\n",
       "context_id                   18371\n",
       "context_timestamp            15592\n",
       "context_page_id                 20\n",
       "predict_category_property     6964\n",
       "shop_id                       2015\n",
       "shop_review_num_level           21\n",
       "shop_review_positive_rate     1302\n",
       "shop_star_level                 20\n",
       "shop_score_service            1963\n",
       "shop_score_delivery           1961\n",
       "shop_score_description        1959\n",
       "dtype: int64"
      ]
     },
     "execution_count": 15,
     "metadata": {},
     "output_type": "execute_result"
    }
   ],
   "source": [
    "distinct_count_test=data_test.apply(lambda x: len(x.value_counts()))\n",
    "distinct_count_test"
   ]
  },
  {
   "cell_type": "markdown",
   "metadata": {},
   "source": [
    "步骤三：样本去重：可以看到训练集中instance_id有几十条重复ID，下部分通过检验重复逻辑，进行去重"
   ]
  },
  {
   "cell_type": "code",
   "execution_count": 59,
   "metadata": {
    "collapsed": false
   },
   "outputs": [
    {
     "name": "stdout",
     "output_type": "stream",
     "text": [
      "5479907258807096112    3\n",
      "3370133319712542740    3\n",
      "2535273059737073357    2\n",
      "4984307821968110563    2\n",
      "6031880284089240838    2\n",
      "Name: instance_id, dtype: int64\n"
     ]
    }
   ],
   "source": [
    "ins_count=data_train['instance_id'].value_counts()\n",
    "print(ins_count[ins_count>1].head(5))"
   ]
  },
  {
   "cell_type": "code",
   "execution_count": 19,
   "metadata": {
    "collapsed": false
   },
   "outputs": [
    {
     "data": {
      "text/html": [
       "<div>\n",
       "<table border=\"1\" class=\"dataframe\">\n",
       "  <thead>\n",
       "    <tr style=\"text-align: right;\">\n",
       "      <th></th>\n",
       "      <th>instance_id</th>\n",
       "      <th>item_id</th>\n",
       "      <th>item_category_list</th>\n",
       "      <th>item_property_list</th>\n",
       "      <th>item_brand_id</th>\n",
       "      <th>item_city_id</th>\n",
       "      <th>item_price_level</th>\n",
       "      <th>item_sales_level</th>\n",
       "      <th>item_collected_level</th>\n",
       "      <th>item_pv_level</th>\n",
       "      <th>...</th>\n",
       "      <th>context_page_id</th>\n",
       "      <th>predict_category_property</th>\n",
       "      <th>shop_id</th>\n",
       "      <th>shop_review_num_level</th>\n",
       "      <th>shop_review_positive_rate</th>\n",
       "      <th>shop_star_level</th>\n",
       "      <th>shop_score_service</th>\n",
       "      <th>shop_score_delivery</th>\n",
       "      <th>shop_score_description</th>\n",
       "      <th>is_trade</th>\n",
       "    </tr>\n",
       "  </thead>\n",
       "  <tbody>\n",
       "    <tr>\n",
       "      <th>293052</th>\n",
       "      <td>5479907258807096112</td>\n",
       "      <td>2079092401639430105</td>\n",
       "      <td>7908382889764677758;7258015885215914736</td>\n",
       "      <td>5131280576272319091;2636395404473730413;462193...</td>\n",
       "      <td>5051039799137810159</td>\n",
       "      <td>3122721854741763495</td>\n",
       "      <td>6</td>\n",
       "      <td>15</td>\n",
       "      <td>17</td>\n",
       "      <td>20</td>\n",
       "      <td>...</td>\n",
       "      <td>4001</td>\n",
       "      <td>7258015885215914736:-1;7822717283490579102:821...</td>\n",
       "      <td>8953967780295706657</td>\n",
       "      <td>20</td>\n",
       "      <td>1.0</td>\n",
       "      <td>5017</td>\n",
       "      <td>0.977122</td>\n",
       "      <td>0.976133</td>\n",
       "      <td>0.982544</td>\n",
       "      <td>1</td>\n",
       "    </tr>\n",
       "    <tr>\n",
       "      <th>293053</th>\n",
       "      <td>5479907258807096112</td>\n",
       "      <td>2079092401639430105</td>\n",
       "      <td>7908382889764677758;7258015885215914736</td>\n",
       "      <td>5131280576272319091;2636395404473730413;462193...</td>\n",
       "      <td>5051039799137810159</td>\n",
       "      <td>3122721854741763495</td>\n",
       "      <td>6</td>\n",
       "      <td>15</td>\n",
       "      <td>17</td>\n",
       "      <td>20</td>\n",
       "      <td>...</td>\n",
       "      <td>4001</td>\n",
       "      <td>7258015885215914736:-1;7822717283490579102:821...</td>\n",
       "      <td>8953967780295706657</td>\n",
       "      <td>20</td>\n",
       "      <td>1.0</td>\n",
       "      <td>5017</td>\n",
       "      <td>0.977122</td>\n",
       "      <td>0.976133</td>\n",
       "      <td>0.982544</td>\n",
       "      <td>1</td>\n",
       "    </tr>\n",
       "    <tr>\n",
       "      <th>293054</th>\n",
       "      <td>5479907258807096112</td>\n",
       "      <td>2079092401639430105</td>\n",
       "      <td>7908382889764677758;7258015885215914736</td>\n",
       "      <td>5131280576272319091;2636395404473730413;462193...</td>\n",
       "      <td>5051039799137810159</td>\n",
       "      <td>3122721854741763495</td>\n",
       "      <td>6</td>\n",
       "      <td>15</td>\n",
       "      <td>17</td>\n",
       "      <td>20</td>\n",
       "      <td>...</td>\n",
       "      <td>4001</td>\n",
       "      <td>7258015885215914736:-1;7822717283490579102:821...</td>\n",
       "      <td>8953967780295706657</td>\n",
       "      <td>20</td>\n",
       "      <td>1.0</td>\n",
       "      <td>5017</td>\n",
       "      <td>0.977122</td>\n",
       "      <td>0.976133</td>\n",
       "      <td>0.982544</td>\n",
       "      <td>1</td>\n",
       "    </tr>\n",
       "  </tbody>\n",
       "</table>\n",
       "<p>3 rows × 27 columns</p>\n",
       "</div>"
      ],
      "text/plain": [
       "                instance_id              item_id  \\\n",
       "293052  5479907258807096112  2079092401639430105   \n",
       "293053  5479907258807096112  2079092401639430105   \n",
       "293054  5479907258807096112  2079092401639430105   \n",
       "\n",
       "                             item_category_list  \\\n",
       "293052  7908382889764677758;7258015885215914736   \n",
       "293053  7908382889764677758;7258015885215914736   \n",
       "293054  7908382889764677758;7258015885215914736   \n",
       "\n",
       "                                       item_property_list  \\\n",
       "293052  5131280576272319091;2636395404473730413;462193...   \n",
       "293053  5131280576272319091;2636395404473730413;462193...   \n",
       "293054  5131280576272319091;2636395404473730413;462193...   \n",
       "\n",
       "              item_brand_id         item_city_id  item_price_level  \\\n",
       "293052  5051039799137810159  3122721854741763495                 6   \n",
       "293053  5051039799137810159  3122721854741763495                 6   \n",
       "293054  5051039799137810159  3122721854741763495                 6   \n",
       "\n",
       "        item_sales_level  item_collected_level  item_pv_level    ...     \\\n",
       "293052                15                    17             20    ...      \n",
       "293053                15                    17             20    ...      \n",
       "293054                15                    17             20    ...      \n",
       "\n",
       "        context_page_id                          predict_category_property  \\\n",
       "293052             4001  7258015885215914736:-1;7822717283490579102:821...   \n",
       "293053             4001  7258015885215914736:-1;7822717283490579102:821...   \n",
       "293054             4001  7258015885215914736:-1;7822717283490579102:821...   \n",
       "\n",
       "                    shop_id  shop_review_num_level  shop_review_positive_rate  \\\n",
       "293052  8953967780295706657                     20                        1.0   \n",
       "293053  8953967780295706657                     20                        1.0   \n",
       "293054  8953967780295706657                     20                        1.0   \n",
       "\n",
       "        shop_star_level  shop_score_service  shop_score_delivery  \\\n",
       "293052             5017            0.977122             0.976133   \n",
       "293053             5017            0.977122             0.976133   \n",
       "293054             5017            0.977122             0.976133   \n",
       "\n",
       "       shop_score_description  is_trade  \n",
       "293052               0.982544         1  \n",
       "293053               0.982544         1  \n",
       "293054               0.982544         1  \n",
       "\n",
       "[3 rows x 27 columns]"
      ]
     },
     "execution_count": 19,
     "metadata": {},
     "output_type": "execute_result"
    }
   ],
   "source": [
    "data_train[data_train['instance_id']==5479907258807096112 ]"
   ]
  },
  {
   "cell_type": "code",
   "execution_count": 20,
   "metadata": {
    "collapsed": false
   },
   "outputs": [
    {
     "data": {
      "text/html": [
       "<div>\n",
       "<table border=\"1\" class=\"dataframe\">\n",
       "  <thead>\n",
       "    <tr style=\"text-align: right;\">\n",
       "      <th></th>\n",
       "      <th>instance_id</th>\n",
       "      <th>item_id</th>\n",
       "      <th>item_category_list</th>\n",
       "      <th>item_property_list</th>\n",
       "      <th>item_brand_id</th>\n",
       "      <th>item_city_id</th>\n",
       "      <th>item_price_level</th>\n",
       "      <th>item_sales_level</th>\n",
       "      <th>item_collected_level</th>\n",
       "      <th>item_pv_level</th>\n",
       "      <th>...</th>\n",
       "      <th>context_page_id</th>\n",
       "      <th>predict_category_property</th>\n",
       "      <th>shop_id</th>\n",
       "      <th>shop_review_num_level</th>\n",
       "      <th>shop_review_positive_rate</th>\n",
       "      <th>shop_star_level</th>\n",
       "      <th>shop_score_service</th>\n",
       "      <th>shop_score_delivery</th>\n",
       "      <th>shop_score_description</th>\n",
       "      <th>is_trade</th>\n",
       "    </tr>\n",
       "  </thead>\n",
       "  <tbody>\n",
       "    <tr>\n",
       "      <th>231093</th>\n",
       "      <td>833314485724646554</td>\n",
       "      <td>365202798058356244</td>\n",
       "      <td>7908382889764677758;8277336076276184272</td>\n",
       "      <td>7323906747451897092;5131280576272319091;263639...</td>\n",
       "      <td>1114275315610038623</td>\n",
       "      <td>7534238860363577544</td>\n",
       "      <td>7</td>\n",
       "      <td>15</td>\n",
       "      <td>17</td>\n",
       "      <td>20</td>\n",
       "      <td>...</td>\n",
       "      <td>4008</td>\n",
       "      <td>8277336076276184272:820214312075361939;7908382...</td>\n",
       "      <td>1091499661419284880</td>\n",
       "      <td>20</td>\n",
       "      <td>1.0</td>\n",
       "      <td>5017</td>\n",
       "      <td>0.974604</td>\n",
       "      <td>0.975824</td>\n",
       "      <td>0.984338</td>\n",
       "      <td>1</td>\n",
       "    </tr>\n",
       "    <tr>\n",
       "      <th>231094</th>\n",
       "      <td>833314485724646554</td>\n",
       "      <td>365202798058356244</td>\n",
       "      <td>7908382889764677758;8277336076276184272</td>\n",
       "      <td>7323906747451897092;5131280576272319091;263639...</td>\n",
       "      <td>1114275315610038623</td>\n",
       "      <td>7534238860363577544</td>\n",
       "      <td>7</td>\n",
       "      <td>15</td>\n",
       "      <td>17</td>\n",
       "      <td>20</td>\n",
       "      <td>...</td>\n",
       "      <td>4008</td>\n",
       "      <td>8277336076276184272:820214312075361939;7908382...</td>\n",
       "      <td>1091499661419284880</td>\n",
       "      <td>20</td>\n",
       "      <td>1.0</td>\n",
       "      <td>5017</td>\n",
       "      <td>0.974604</td>\n",
       "      <td>0.975824</td>\n",
       "      <td>0.984338</td>\n",
       "      <td>1</td>\n",
       "    </tr>\n",
       "  </tbody>\n",
       "</table>\n",
       "<p>2 rows × 27 columns</p>\n",
       "</div>"
      ],
      "text/plain": [
       "               instance_id             item_id  \\\n",
       "231093  833314485724646554  365202798058356244   \n",
       "231094  833314485724646554  365202798058356244   \n",
       "\n",
       "                             item_category_list  \\\n",
       "231093  7908382889764677758;8277336076276184272   \n",
       "231094  7908382889764677758;8277336076276184272   \n",
       "\n",
       "                                       item_property_list  \\\n",
       "231093  7323906747451897092;5131280576272319091;263639...   \n",
       "231094  7323906747451897092;5131280576272319091;263639...   \n",
       "\n",
       "              item_brand_id         item_city_id  item_price_level  \\\n",
       "231093  1114275315610038623  7534238860363577544                 7   \n",
       "231094  1114275315610038623  7534238860363577544                 7   \n",
       "\n",
       "        item_sales_level  item_collected_level  item_pv_level    ...     \\\n",
       "231093                15                    17             20    ...      \n",
       "231094                15                    17             20    ...      \n",
       "\n",
       "        context_page_id                          predict_category_property  \\\n",
       "231093             4008  8277336076276184272:820214312075361939;7908382...   \n",
       "231094             4008  8277336076276184272:820214312075361939;7908382...   \n",
       "\n",
       "                    shop_id  shop_review_num_level  shop_review_positive_rate  \\\n",
       "231093  1091499661419284880                     20                        1.0   \n",
       "231094  1091499661419284880                     20                        1.0   \n",
       "\n",
       "        shop_star_level  shop_score_service  shop_score_delivery  \\\n",
       "231093             5017            0.974604             0.975824   \n",
       "231094             5017            0.974604             0.975824   \n",
       "\n",
       "       shop_score_description  is_trade  \n",
       "231093               0.984338         1  \n",
       "231094               0.984338         1  \n",
       "\n",
       "[2 rows x 27 columns]"
      ]
     },
     "execution_count": 20,
     "metadata": {},
     "output_type": "execute_result"
    }
   ],
   "source": [
    "data_train[data_train['instance_id']==833314485724646554  ]"
   ]
  },
  {
   "cell_type": "markdown",
   "metadata": {},
   "source": [
    "随机抽取3次重复和两次重复的样本可以看到instance_id相同的数据中其它变量相同，因此进行去重逻辑，去重后样本量为478087"
   ]
  },
  {
   "cell_type": "code",
   "execution_count": 97,
   "metadata": {
    "collapsed": false
   },
   "outputs": [
    {
     "data": {
      "text/plain": [
       "(478087, 27)"
      ]
     },
     "execution_count": 97,
     "metadata": {},
     "output_type": "execute_result"
    }
   ],
   "source": [
    "data_train1=data_train.drop_duplicates(subset='instance_id',keep='last') \n",
    "data_train1.shape"
   ]
  },
  {
   "cell_type": "code",
   "execution_count": 46,
   "metadata": {
    "collapsed": false
   },
   "outputs": [],
   "source": [
    "import matplotlib.pyplot as plt\n",
    "\n",
    "def cat(var,cnt):\n",
    "    var_prob=data_train1.loc[:,[var,'is_trade']].groupby(var).mean()\n",
    "    var_count=data_train1[var].value_counts().rename('train')\n",
    "    var_count_test=data_test[var].value_counts().rename('test')\n",
    "    join=pd.merge(pd.DataFrame(var_count),pd.DataFrame(var_count_test),left_index=True,right_index=True,how='outer')\n",
    "    join2=pd.merge(join,var_prob,left_index=True,right_index=True,how='left')\n",
    "    join2=join2.reset_index(drop=False)\n",
    "    \n",
    "    join2=join2.sort_values(by=['train'],ascending=0).reset_index(drop=True)\n",
    "    plt.title('Train Data Distribution With Count >%0.1f'%cnt)\n",
    "    plt.ylabel('Count')\n",
    "    plt.xlabel('index')\n",
    "    p1 = plt.bar(join2[join2['train']>cnt].index , join2[join2['train']>cnt]['train'], color='b')\n",
    "    plt.show()\n",
    "        \n",
    "    print(' Train Data Cnt 1 per 分位数 %0.1f ' %var_count.quantile(0.01),'\\n','Train Data Cnt 10 per 分位数 %0.1f'%var_count.quantile(0.10)\n",
    "          ,'\\n','Train Data Cnt 50 per 分位数 %0.1f'%var_count.quantile(0.50),'\\n','Train Data Cnt 90 per 分位数 %0.1f'%var_count.quantile(0.90),'\\n',\n",
    "         'Train Data Cnt 99 per 分位数 %0.1f'%var_count.quantile(0.99))\n",
    "    print(' 训练集拥有分类数%0.1f' %len(var_count),\n",
    "          '检验集拥有分类数%0.1f'%len(var_count_test),\n",
    "          '共有有分类数%0.1f' %len(join2),'\\n',\n",
    "          '训练集最多分类样本数%0.1f' %join2['train'].max(),\n",
    "          '训练集最少分类样本数%0.1f' %join2['train'].min(),\n",
    "          '检验集新分类数样本数%0.1f'%join2[join2['train'].isnull()]['test'].sum())"
   ]
  },
  {
   "cell_type": "markdown",
   "metadata": {},
   "source": [
    "步骤四：对变量进行单独的分析，查看是否存在冷启动和分布不均匀情况等\n",
    "\n",
    "1.instance_id 为样本编号 train中为478087条观测  test中为18371条观测 均为distinct\n",
    "2.is_trade为目标变量,train中为有is_trade,购买率为1.8%test中无作为目标变量进行预测"
   ]
  },
  {
   "cell_type": "code",
   "execution_count": 40,
   "metadata": {
    "collapsed": false
   },
   "outputs": [
    {
     "data": {
      "text/plain": [
       "0.018812475553612627"
      ]
     },
     "execution_count": 40,
     "metadata": {},
     "output_type": "execute_result"
    }
   ],
   "source": [
    "data_train1['is_trade'].mean()"
   ]
  },
  {
   "cell_type": "markdown",
   "metadata": {},
   "source": [
    "3.item_id为广告商品编号 即广告分类数，可以看到近90%的分类只有小于100的样本数,并且检验集有100多类新的广告数，样本数有207占1%左右"
   ]
  },
  {
   "cell_type": "code",
   "execution_count": 47,
   "metadata": {
    "collapsed": false
   },
   "outputs": [
    {
     "data": {
      "image/png": "[encoded data removed]",
      "text/plain": [
       "<matplotlib.figure.Figure at 0xadd95c0>"
      ]
     },
     "metadata": {},
     "output_type": "display_data"
    },
    {
     "name": "stdout",
     "output_type": "stream",
     "text": [
      " Train Data Cnt 1 per 分位数 1.0  \n",
      " Train Data Cnt 10 per 分位数 1.0 \n",
      " Train Data Cnt 50 per 分位数 7.0 \n",
      " Train Data Cnt 90 per 分位数 108.0 \n",
      " Train Data Cnt 99 per 分位数 686.0\n",
      " 训练集拥有分类数10074.0 检验集拥有分类数3695.0 共有有分类数10235.0 \n",
      " 训练集最多分类样本数3000.0 训练集最少分类样本数1.0 检验集新分类数样本数207.0\n"
     ]
    }
   ],
   "source": [
    "cat('item_id',100)"
   ]
  },
  {
   "cell_type": "markdown",
   "metadata": {},
   "source": [
    "4.user_id为用户编号   可以看出用户基本都为新用户，最多的用户购买近65次 ,估计不能用了"
   ]
  },
  {
   "cell_type": "code",
   "execution_count": 49,
   "metadata": {
    "collapsed": false
   },
   "outputs": [
    {
     "data": {
      "image/png": "[encoded data removed]",
      "text/plain": [
       "<matplotlib.figure.Figure at 0x11321860>"
      ]
     },
     "metadata": {},
     "output_type": "display_data"
    },
    {
     "name": "stdout",
     "output_type": "stream",
     "text": [
      " Train Data Cnt 1 per 分位数 1.0  \n",
      " Train Data Cnt 10 per 分位数 1.0 \n",
      " Train Data Cnt 50 per 分位数 2.0 \n",
      " Train Data Cnt 90 per 分位数 5.0 \n",
      " Train Data Cnt 99 per 分位数 12.0\n",
      " 训练集拥有分类数197690.0 检验集拥有分类数13573.0 共有有分类数207637.0 \n",
      " 训练集最多分类样本数65.0 训练集最少分类样本数1.0 检验集新分类数样本数13198.0\n"
     ]
    }
   ],
   "source": [
    "cat('user_id',10)"
   ]
  },
  {
   "cell_type": "markdown",
   "metadata": {},
   "source": [
    "5.context_id为上下文信息 为唯一编号 也可以当主键"
   ]
  },
  {
   "cell_type": "code",
   "execution_count": 51,
   "metadata": {
    "collapsed": false
   },
   "outputs": [
    {
     "data": {
      "image/png": "[encoded data removed]",
      "text/plain": [
       "<matplotlib.figure.Figure at 0x91ddef0>"
      ]
     },
     "metadata": {},
     "output_type": "display_data"
    },
    {
     "name": "stdout",
     "output_type": "stream",
     "text": [
      " Train Data Cnt 1 per 分位数 1.0  \n",
      " Train Data Cnt 10 per 分位数 1.0 \n",
      " Train Data Cnt 50 per 分位数 1.0 \n",
      " Train Data Cnt 90 per 分位数 1.0 \n",
      " Train Data Cnt 99 per 分位数 1.0\n",
      " 训练集拥有分类数478087.0 检验集拥有分类数18371.0 共有有分类数496458.0 \n",
      " 训练集最多分类样本数1.0 训练集最少分类样本数1.0 检验集新分类数样本数18371.0\n"
     ]
    }
   ],
   "source": [
    "cat('context_id',2)"
   ]
  },
  {
   "cell_type": "markdown",
   "metadata": {},
   "source": [
    "6.shop_id 为店铺ID信息 有少量的新样本数，最多售卖可达到11278件，新店铺有44家，新样本数为49个 "
   ]
  },
  {
   "cell_type": "code",
   "execution_count": 54,
   "metadata": {
    "collapsed": false
   },
   "outputs": [
    {
     "data": {
      "image/png": "[encoded data removed]",
      "text/plain": [
       "<matplotlib.figure.Figure at 0x17b08f60>"
      ]
     },
     "metadata": {},
     "output_type": "display_data"
    },
    {
     "name": "stdout",
     "output_type": "stream",
     "text": [
      " Train Data Cnt 1 per 分位数 1.0  \n",
      " Train Data Cnt 10 per 分位数 1.0 \n",
      " Train Data Cnt 50 per 分位数 16.0 \n",
      " Train Data Cnt 90 per 分位数 283.0 \n",
      " Train Data Cnt 99 per 分位数 1606.7\n",
      " 训练集拥有分类数3958.0 检验集拥有分类数2015.0 共有有分类数4002.0 \n",
      " 训练集最多分类样本数11278.0 训练集最少分类样本数1.0 检验集新分类数样本数49.0\n"
     ]
    }
   ],
   "source": [
    "cat('shop_id',300) "
   ]
  },
  {
   "cell_type": "markdown",
   "metadata": {},
   "source": [
    "7.item_category_list为商品的类目列表变量，从大类到小类用;隔开，但是只有14种！！！！！应该不用再拆大类了吧"
   ]
  },
  {
   "cell_type": "code",
   "execution_count": 55,
   "metadata": {
    "collapsed": false
   },
   "outputs": [
    {
     "data": {
      "image/png": "[encoded data removed]",
      "text/plain": [
       "<matplotlib.figure.Figure at 0xd6854e0>"
      ]
     },
     "metadata": {},
     "output_type": "display_data"
    },
    {
     "name": "stdout",
     "output_type": "stream",
     "text": [
      " Train Data Cnt 1 per 分位数 92.5  \n",
      " Train Data Cnt 10 per 分位数 141.9 \n",
      " Train Data Cnt 50 per 分位数 4664.5 \n",
      " Train Data Cnt 90 per 分位数 94366.1 \n",
      " Train Data Cnt 99 per 分位数 144495.1\n",
      " 训练集拥有分类数14.0 检验集拥有分类数14.0 共有有分类数14.0 \n",
      " 训练集最多分类样本数150772.0 训练集最少分类样本数88.0 检验集新分类数样本数0.0\n"
     ]
    }
   ],
   "source": [
    "cat('item_category_list',10) "
   ]
  },
  {
   "cell_type": "markdown",
   "metadata": {},
   "source": [
    "8.'item_property_list'为广告商品的属性列表变量便令有10000多类,并且以分号作为分隔，且没有从属关系.构建100个变量，再筛选或者GBDT衍生"
   ]
  },
  {
   "cell_type": "code",
   "execution_count": 56,
   "metadata": {
    "collapsed": false
   },
   "outputs": [
    {
     "data": {
      "image/png": "[encoded data removed]",
      "text/plain": [
       "<matplotlib.figure.Figure at 0xd65fb70>"
      ]
     },
     "metadata": {},
     "output_type": "display_data"
    },
    {
     "name": "stdout",
     "output_type": "stream",
     "text": [
      " Train Data Cnt 1 per 分位数 1.0  \n",
      " Train Data Cnt 10 per 分位数 1.0 \n",
      " Train Data Cnt 50 per 分位数 7.0 \n",
      " Train Data Cnt 90 per 分位数 98.0 \n",
      " Train Data Cnt 99 per 分位数 638.8\n",
      " 训练集拥有分类数10907.0 检验集拥有分类数3690.0 共有有分类数11180.0 \n",
      " 训练集最多分类样本数2578.0 训练集最少分类样本数1.0 检验集新分类数样本数575.0\n"
     ]
    }
   ],
   "source": [
    "cat('item_property_list',10) "
   ]
  },
  {
   "cell_type": "code",
   "execution_count": 58,
   "metadata": {
    "collapsed": false
   },
   "outputs": [
    {
     "data": {
      "text/plain": [
       "0    2072967855524022579;5131280576272319091;263639...\n",
       "1    2072967855524022579;5131280576272319091;263639...\n",
       "2    2072967855524022579;5131280576272319091;263639...\n",
       "3    2072967855524022579;5131280576272319091;263639...\n",
       "4    2072967855524022579;5131280576272319091;263639...\n",
       "Name: item_property_list, dtype: object"
      ]
     },
     "execution_count": 58,
     "metadata": {},
     "output_type": "execute_result"
    }
   ],
   "source": [
    "data_train['item_property_list'].head(5)"
   ]
  },
  {
   "cell_type": "code",
   "execution_count": 87,
   "metadata": {
    "collapsed": false
   },
   "outputs": [
    {
     "data": {
      "text/plain": [
       "172991      6\n",
       "23546       6\n",
       "365057      7\n",
       "471887      7\n",
       "471888      7\n",
       "97898       7\n",
       "215937      7\n",
       "78132       7\n",
       "78131       7\n",
       "354171      7\n",
       "73345       7\n",
       "145534      7\n",
       "450667      8\n",
       "450668      8\n",
       "52634       8\n",
       "450665      8\n",
       "78208       8\n",
       "149174      8\n",
       "52635       8\n",
       "288377      8\n",
       "476227      8\n",
       "52637       8\n",
       "77069       8\n",
       "407349      8\n",
       "476228      8\n",
       "288376      8\n",
       "194035      8\n",
       "52632       8\n",
       "356874      8\n",
       "331462      9\n",
       "         ... \n",
       "90287     100\n",
       "90286     100\n",
       "90285     100\n",
       "199330    100\n",
       "199331    100\n",
       "199332    100\n",
       "199333    100\n",
       "199334    100\n",
       "199335    100\n",
       "199336    100\n",
       "199337    100\n",
       "199338    100\n",
       "199339    100\n",
       "199340    100\n",
       "199341    100\n",
       "199342    100\n",
       "199343    100\n",
       "199344    100\n",
       "199345    100\n",
       "199346    100\n",
       "199347    100\n",
       "90278     100\n",
       "90279     100\n",
       "90280     100\n",
       "90281     100\n",
       "90282     100\n",
       "90283     100\n",
       "90284     100\n",
       "90314     100\n",
       "300065    100\n",
       "Name: item_property_list, dtype: int64"
      ]
     },
     "execution_count": 87,
     "metadata": {},
     "output_type": "execute_result"
    }
   ],
   "source": [
    "item_property_cnt=data_train1['item_property_list'].map(lambda x : len(x.split(';')))\n",
    "item_property_cnt.sort_values()"
   ]
  },
  {
   "cell_type": "markdown",
   "metadata": {},
   "source": [
    "该变量的属性从6-100不等，都扩展成100的形式，若没有则拿-1填充"
   ]
  },
  {
   "cell_type": "code",
   "execution_count": 99,
   "metadata": {
    "collapsed": false
   },
   "outputs": [],
   "source": [
    "item_proper=pd.DataFrame()\n",
    "#为了防止报错后面拿-1填充\n",
    "def split(x,i):\n",
    "    try:\n",
    "        y=x.split(';')[i]\n",
    "    except: \n",
    "        y=0\n",
    "    return y\n",
    "        \n",
    "for i in range(100):\n",
    "    item_property_list=data_train1['item_property_list'].map(lambda x : split(x,i))\n",
    "    name='item_property'+str(i)\n",
    "    item_proper[name]= pd.Series(item_property_list)"
   ]
  },
  {
   "cell_type": "code",
   "execution_count": 101,
   "metadata": {
    "collapsed": false
   },
   "outputs": [
    {
     "data": {
      "text/plain": [
       "(478087, 100)"
      ]
     },
     "execution_count": 101,
     "metadata": {},
     "output_type": "execute_result"
    }
   ],
   "source": [
    "item_proper.shape   "
   ]
  },
  {
   "cell_type": "markdown",
   "metadata": {},
   "source": [
    "9.item_brand_id 广告商品的品牌编号，Long类型，共有2075个牌子，还有一个牌子有大概70000的量，新的牌子有20个"
   ]
  },
  {
   "cell_type": "code",
   "execution_count": 104,
   "metadata": {
    "collapsed": false
   },
   "outputs": [
    {
     "data": {
      "image/png": "[encoded data removed]",
      "text/plain": [
       "<matplotlib.figure.Figure at 0x14cc9ae80>"
      ]
     },
     "metadata": {},
     "output_type": "display_data"
    },
    {
     "name": "stdout",
     "output_type": "stream",
     "text": [
      " Train Data Cnt 1 per 分位数 1.0  \n",
      " Train Data Cnt 10 per 分位数 1.0 \n",
      " Train Data Cnt 50 per 分位数 20.0 \n",
      " Train Data Cnt 90 per 分位数 479.0 \n",
      " Train Data Cnt 99 per 分位数 2622.1\n",
      " 训练集拥有分类数2055.0 检验集拥有分类数1101.0 共有有分类数2075.0 \n",
      " 训练集最多分类样本数69732.0 训练集最少分类样本数1.0 检验集新分类数样本数22.0\n"
     ]
    }
   ],
   "source": [
    "cat('item_brand_id',500) "
   ]
  },
  {
   "cell_type": "markdown",
   "metadata": {},
   "source": [
    "10.item_city_id 广告商品的城市编号，Long类型,共有128个城市，其中一个城市销售量很高，没有新城市"
   ]
  },
  {
   "cell_type": "code",
   "execution_count": 105,
   "metadata": {
    "collapsed": false
   },
   "outputs": [
    {
     "data": {
      "image/png": "[encoded data removed]",
      "text/plain": [
       "<matplotlib.figure.Figure at 0xa0364e0>"
      ]
     },
     "metadata": {},
     "output_type": "display_data"
    },
    {
     "name": "stdout",
     "output_type": "stream",
     "text": [
      " Train Data Cnt 1 per 分位数 1.0  \n",
      " Train Data Cnt 10 per 分位数 4.0 \n",
      " Train Data Cnt 50 per 分位数 131.5 \n",
      " Train Data Cnt 90 per 分位数 3790.1 \n",
      " Train Data Cnt 99 per 分位数 57282.3\n",
      " 训练集拥有分类数128.0 检验集拥有分类数99.0 共有有分类数128.0 \n",
      " 训练集最多分类样本数154980.0 训练集最少分类样本数1.0 检验集新分类数样本数0.0\n"
     ]
    }
   ],
   "source": [
    "cat('item_city_id',500) "
   ]
  },
  {
   "cell_type": "markdown",
   "metadata": {},
   "source": [
    "11. item_price_level 广告商品的价格等级，Int类型；取值从0开始，数值越大表示价格越高，共有14个分类"
   ]
  },
  {
   "cell_type": "code",
   "execution_count": 108,
   "metadata": {
    "collapsed": false
   },
   "outputs": [
    {
     "data": {
      "image/png": "[encoded data removed]",
      "text/plain": [
       "<matplotlib.figure.Figure at 0x14d908940>"
      ]
     },
     "metadata": {},
     "output_type": "display_data"
    },
    {
     "name": "stdout",
     "output_type": "stream",
     "text": [
      " Train Data Cnt 1 per 分位数 1.0  \n",
      " Train Data Cnt 10 per 分位数 4.3 \n",
      " Train Data Cnt 50 per 分位数 2021.5 \n",
      " Train Data Cnt 90 per 分位数 107619.9 \n",
      " Train Data Cnt 99 per 分位数 197091.3\n",
      " 训练集拥有分类数14.0 检验集拥有分类数10.0 共有有分类数14.0 \n",
      " 训练集最多分类样本数209271.0 训练集最少分类样本数1.0 检验集新分类数样本数0.0\n"
     ]
    }
   ],
   "source": [
    "cat('item_price_level',100) "
   ]
  },
  {
   "cell_type": "markdown",
   "metadata": {},
   "source": [
    "12.item_sales_level 广告商品的销量等级，Int类型；取值从0开始，数值越大表示销量越大 共有18个分类"
   ]
  },
  {
   "cell_type": "code",
   "execution_count": 110,
   "metadata": {
    "collapsed": false
   },
   "outputs": [
    {
     "data": {
      "image/png": "[encoded data removed]",
      "text/plain": [
       "<matplotlib.figure.Figure at 0x9e024a8>"
      ]
     },
     "metadata": {},
     "output_type": "display_data"
    },
    {
     "name": "stdout",
     "output_type": "stream",
     "text": [
      " Train Data Cnt 1 per 分位数 571.0  \n",
      " Train Data Cnt 10 per 分位数 938.9 \n",
      " Train Data Cnt 50 per 分位数 14562.0 \n",
      " Train Data Cnt 90 per 分位数 69242.4 \n",
      " Train Data Cnt 99 per 分位数 85839.8\n",
      " 训练集拥有分类数18.0 检验集拥有分类数18.0 共有有分类数18.0 \n",
      " 训练集最多分类样本数86947.0 训练集最少分类样本数501.0 检验集新分类数样本数0.0\n"
     ]
    }
   ],
   "source": [
    "cat('item_sales_level',100) "
   ]
  },
  {
   "cell_type": "markdown",
   "metadata": {},
   "source": [
    "13.item_collected_level 广告商品被收藏次数的等级，Int类型；取值从0开始，数值越大表示被收藏次数越大,共18个分类"
   ]
  },
  {
   "cell_type": "code",
   "execution_count": 112,
   "metadata": {
    "collapsed": false
   },
   "outputs": [
    {
     "data": {
      "image/png": "[encoded data removed]",
      "text/plain": [
       "<matplotlib.figure.Figure at 0x14c690048>"
      ]
     },
     "metadata": {},
     "output_type": "display_data"
    },
    {
     "name": "stdout",
     "output_type": "stream",
     "text": [
      " Train Data Cnt 1 per 分位数 269.0  \n",
      " Train Data Cnt 10 per 分位数 427.4 \n",
      " Train Data Cnt 50 per 分位数 13754.5 \n",
      " Train Data Cnt 90 per 分位数 76846.4 \n",
      " Train Data Cnt 99 per 分位数 84500.8\n",
      " 训练集拥有分类数18.0 检验集拥有分类数18.0 共有有分类数18.0 \n",
      " 训练集最多分类样本数84595.0 训练集最少分类样本数267.0 检验集新分类数样本数0.0\n"
     ]
    }
   ],
   "source": [
    "cat('item_collected_level',100) "
   ]
  },
  {
   "cell_type": "markdown",
   "metadata": {},
   "source": [
    "14.item_pv_level 广告商品被展示次数的等级，Int类型；取值从0开始，数值越大表示被展示次数越大 共22个分类"
   ]
  },
  {
   "cell_type": "code",
   "execution_count": 114,
   "metadata": {
    "collapsed": false
   },
   "outputs": [
    {
     "data": {
      "image/png": "[encoded data removed]",
      "text/plain": [
       "<matplotlib.figure.Figure at 0x14d87dbe0>"
      ]
     },
     "metadata": {},
     "output_type": "display_data"
    },
    {
     "name": "stdout",
     "output_type": "stream",
     "text": [
      " Train Data Cnt 1 per 分位数 1.8  \n",
      " Train Data Cnt 10 per 分位数 13.2 \n",
      " Train Data Cnt 50 per 分位数 2865.0 \n",
      " Train Data Cnt 90 per 分位数 79362.8 \n",
      " Train Data Cnt 99 per 分位数 98368.2\n",
      " 训练集拥有分类数22.0 检验集拥有分类数21.0 共有有分类数22.0 \n",
      " 训练集最多分类样本数102072.0 训练集最少分类样本数1.0 检验集新分类数样本数0.0\n"
     ]
    }
   ],
   "source": [
    "cat('item_pv_level',100) "
   ]
  },
  {
   "cell_type": "markdown",
   "metadata": {},
   "source": [
    "15.user_gender_id   用户的预测性别编号，Int类型；0表示女性用户，1表示男性用户，2表示家庭用户，还有类是缺失吧"
   ]
  },
  {
   "cell_type": "code",
   "execution_count": 116,
   "metadata": {
    "collapsed": false
   },
   "outputs": [
    {
     "data": {
      "image/png": "[encoded data removed]",
      "text/plain": [
       "<matplotlib.figure.Figure at 0x14bc8f748>"
      ]
     },
     "metadata": {},
     "output_type": "display_data"
    },
    {
     "name": "stdout",
     "output_type": "stream",
     "text": [
      " Train Data Cnt 1 per 分位数 10425.6  \n",
      " Train Data Cnt 10 per 分位数 11114.9 \n",
      " Train Data Cnt 50 per 分位数 53480.5 \n",
      " Train Data Cnt 90 per 分位数 280761.6 \n",
      " Train Data Cnt 99 per 分位数 352775.5\n",
      " 训练集拥有分类数4.0 检验集拥有分类数4.0 共有有分类数4.0 \n",
      " 训练集最多分类样本数360777.0 训练集最少分类样本数10349.0 检验集新分类数样本数0.0\n"
     ]
    }
   ],
   "source": [
    "cat('user_gender_id',100) "
   ]
  },
  {
   "cell_type": "markdown",
   "metadata": {},
   "source": [
    "16.user_age_level 用户的预测年龄等级，Int类型；数值越大表示年龄越大 共9个分类"
   ]
  },
  {
   "cell_type": "code",
   "execution_count": 118,
   "metadata": {
    "collapsed": false
   },
   "outputs": [
    {
     "data": {
      "image/png": "[encoded data removed]",
      "text/plain": [
       "<matplotlib.figure.Figure at 0x14d438160>"
      ]
     },
     "metadata": {},
     "output_type": "display_data"
    },
    {
     "name": "stdout",
     "output_type": "stream",
     "text": [
      " Train Data Cnt 1 per 分位数 1304.2  \n",
      " Train Data Cnt 10 per 分位数 4365.6 \n",
      " Train Data Cnt 50 per 分位数 30186.0 \n",
      " Train Data Cnt 90 per 分位数 134777.6 \n",
      " Train Data Cnt 99 per 分位数 165966.6\n",
      " 训练集拥有分类数9.0 检验集拥有分类数9.0 共有有分类数9.0 \n",
      " 训练集最多分类样本数169432.0 训练集最少分类样本数964.0 检验集新分类数样本数0.0\n"
     ]
    }
   ],
   "source": [
    "cat('user_age_level',100)"
   ]
  },
  {
   "cell_type": "markdown",
   "metadata": {},
   "source": [
    "17.user_occupation_id 用户的预测职业编号，Int类型，共五个分类"
   ]
  },
  {
   "cell_type": "code",
   "execution_count": 120,
   "metadata": {
    "collapsed": false
   },
   "outputs": [
    {
     "data": {
      "image/png": "[encoded data removed]",
      "text/plain": [
       "<matplotlib.figure.Figure at 0x14d432d68>"
      ]
     },
     "metadata": {},
     "output_type": "display_data"
    },
    {
     "name": "stdout",
     "output_type": "stream",
     "text": [
      " Train Data Cnt 1 per 分位数 1182.2  \n",
      " Train Data Cnt 10 per 分位数 3145.6 \n",
      " Train Data Cnt 50 per 分位数 23802.0 \n",
      " Train Data Cnt 90 per 分位数 238760.6 \n",
      " Train Data Cnt 99 per 分位数 293873.4\n",
      " 训练集拥有分类数5.0 检验集拥有分类数5.0 共有有分类数5.0 \n",
      " 训练集最多分类样本数299997.0 训练集最少分类样本数964.0 检验集新分类数样本数0.0\n"
     ]
    }
   ],
   "source": [
    "cat('user_occupation_id',100)  "
   ]
  },
  {
   "cell_type": "markdown",
   "metadata": {},
   "source": [
    "18.user_star_level 用户的预测职业编号，Int类型，共五个分类  ，  特么有12类"
   ]
  },
  {
   "cell_type": "code",
   "execution_count": 122,
   "metadata": {
    "collapsed": false
   },
   "outputs": [
    {
     "data": {
      "image/png": "[encoded data removed]",
      "text/plain": [
       "<matplotlib.figure.Figure at 0x14c78a780>"
      ]
     },
     "metadata": {},
     "output_type": "display_data"
    },
    {
     "name": "stdout",
     "output_type": "stream",
     "text": [
      " Train Data Cnt 1 per 分位数 265.4  \n",
      " Train Data Cnt 10 per 分位数 1279.8 \n",
      " Train Data Cnt 50 per 分位数 42321.5 \n",
      " Train Data Cnt 90 per 分位数 73855.6 \n",
      " Train Data Cnt 99 per 分位数 81182.6\n",
      " 训练集拥有分类数12.0 检验集拥有分类数12.0 共有有分类数12.0 \n",
      " 训练集最多分类样本数82000.0 训练集最少分类样本数179.0 检验集新分类数样本数0.0\n"
     ]
    }
   ],
   "source": [
    "cat('user_star_level',100)  "
   ]
  },
  {
   "cell_type": "markdown",
   "metadata": {},
   "source": [
    "18.context_timestamp 广告商品的展示时间，Long类型；取值是以秒为单位的Unix时间戳，以1天为单位对时间戳进行了偏移，要对时间戳进行转化"
   ]
  },
  {
   "cell_type": "code",
   "execution_count": 126,
   "metadata": {
    "collapsed": false
   },
   "outputs": [
    {
     "data": {
      "image/png": "[encoded data removed]",
      "text/plain": [
       "<matplotlib.figure.Figure at 0x14c68f780>"
      ]
     },
     "metadata": {},
     "output_type": "display_data"
    },
    {
     "name": "stdout",
     "output_type": "stream",
     "text": [
      " Train Data Cnt 1 per 分位数 1.0  \n",
      " Train Data Cnt 10 per 分位数 1.0 \n",
      " Train Data Cnt 50 per 分位数 1.0 \n",
      " Train Data Cnt 90 per 分位数 3.0 \n",
      " Train Data Cnt 99 per 分位数 5.0\n",
      " 训练集拥有分类数281815.0 检验集拥有分类数15592.0 共有有分类数297407.0 \n",
      " 训练集最多分类样本数12.0 训练集最少分类样本数1.0 检验集新分类数样本数18371.0\n"
     ]
    }
   ],
   "source": [
    "cat('context_timestamp',5)  "
   ]
  },
  {
   "cell_type": "code",
   "execution_count": 128,
   "metadata": {
    "collapsed": false
   },
   "outputs": [
    {
     "data": {
      "text/plain": [
       "0    1537236544\n",
       "1    1537243232\n",
       "2    1537211052\n",
       "3    1537222670\n",
       "4    1537271320\n",
       "Name: context_timestamp, dtype: int64"
      ]
     },
     "execution_count": 128,
     "metadata": {},
     "output_type": "execute_result"
    }
   ],
   "source": [
    "data_train1['context_timestamp'].head(5)"
   ]
  },
  {
   "cell_type": "code",
   "execution_count": 132,
   "metadata": {
    "collapsed": false
   },
   "outputs": [],
   "source": [
    "import datetime\n",
    "time=data_train1['context_timestamp'].map(lambda x :datetime.datetime.fromtimestamp(x))"
   ]
  },
  {
   "cell_type": "code",
   "execution_count": 134,
   "metadata": {
    "collapsed": false
   },
   "outputs": [
    {
     "data": {
      "text/plain": [
       "0   2018-09-18 10:09:04\n",
       "1   2018-09-18 12:00:32\n",
       "2   2018-09-18 03:04:12\n",
       "3   2018-09-18 06:17:50\n",
       "4   2018-09-18 19:48:40\n",
       "Name: context_timestamp, dtype: datetime64[ns]"
      ]
     },
     "execution_count": 134,
     "metadata": {},
     "output_type": "execute_result"
    }
   ],
   "source": [
    "time.head(5)"
   ]
  },
  {
   "cell_type": "markdown",
   "metadata": {},
   "source": [
    "19.context_page_id 广告商品的展示页面编号，Int类型；取值从1开始，依次增加；在一次搜索的展示结果中第一屏的编号为1，第二屏的编号为2\n",
    ",共20页"
   ]
  },
  {
   "cell_type": "code",
   "execution_count": 135,
   "metadata": {
    "collapsed": false
   },
   "outputs": [
    {
     "data": {
      "image/png": "[encoded data removed]",
      "text/plain": [
       "<matplotlib.figure.Figure at 0x14c68afd0>"
      ]
     },
     "metadata": {},
     "output_type": "display_data"
    },
    {
     "name": "stdout",
     "output_type": "stream",
     "text": [
      " Train Data Cnt 1 per 分位数 1997.4  \n",
      " Train Data Cnt 10 per 分位数 2505.7 \n",
      " Train Data Cnt 50 per 分位数 6921.0 \n",
      " Train Data Cnt 90 per 分位数 32681.4 \n",
      " Train Data Cnt 99 per 分位数 224956.0\n",
      " 训练集拥有分类数20.0 检验集拥有分类数20.0 共有有分类数20.0 \n",
      " 训练集最多分类样本数267462.0 训练集最少分类样本数1940.0 检验集新分类数样本数0.0\n"
     ]
    }
   ],
   "source": [
    "cat('context_page_id',10)  "
   ]
  },
  {
   "cell_type": "markdown",
   "metadata": {},
   "source": [
    "20.predict_category_property   根据查询词预测的类目属性列表，String类型；\n",
    "数据拼接格式为 “category_A:property_A_1,property_A_2,property_A_3;category_B:-1;category_C:property_C_1,property_C_2” ，\n",
    "其中 category_A、category_B、category_C 是预测的三个类目；property_B 取值为-1，表示预测的第二个类目 category_B 没有对应的预测属性\n",
    "表示没看懂，下面湿了也很乱不知道怎么弄"
   ]
  },
  {
   "cell_type": "code",
   "execution_count": 136,
   "metadata": {
    "collapsed": false
   },
   "outputs": [
    {
     "data": {
      "image/png": "[encoded data removed]",
      "text/plain": [
       "<matplotlib.figure.Figure at 0x14ce602b0>"
      ]
     },
     "metadata": {},
     "output_type": "display_data"
    },
    {
     "name": "stdout",
     "output_type": "stream",
     "text": [
      " Train Data Cnt 1 per 分位数 1.0  \n",
      " Train Data Cnt 10 per 分位数 1.0 \n",
      " Train Data Cnt 50 per 分位数 2.0 \n",
      " Train Data Cnt 90 per 分位数 7.0 \n",
      " Train Data Cnt 99 per 分位数 77.0\n",
      " 训练集拥有分类数78793.0 检验集拥有分类数6964.0 共有有分类数82375.0 \n",
      " 训练集最多分类样本数3120.0 训练集最少分类样本数1.0 检验集新分类数样本数6017.0\n"
     ]
    }
   ],
   "source": [
    "cat('predict_category_property',50)  "
   ]
  },
  {
   "cell_type": "code",
   "execution_count": 139,
   "metadata": {
    "collapsed": false
   },
   "outputs": [
    {
     "data": {
      "text/plain": [
       "0    5799347067982556520:-1;509660095530134768:-1;5...\n",
       "1    5799347067982556520:9172976955054793469;790838...\n",
       "2    5799347067982556520:5131280576272319091;725801...\n",
       "3    509660095530134768:-1;5799347067982556520:-1;7...\n",
       "4    5799347067982556520:9172976955054793469;790838...\n",
       "Name: predict_category_property, dtype: object"
      ]
     },
     "execution_count": 139,
     "metadata": {},
     "output_type": "execute_result"
    }
   ],
   "source": [
    "data_train1['predict_category_property'].head(5)"
   ]
  },
  {
   "cell_type": "code",
   "execution_count": 141,
   "metadata": {
    "collapsed": false
   },
   "outputs": [
    {
     "data": {
      "text/plain": [
       "273218     1\n",
       "428961     1\n",
       "452984     1\n",
       "155810     1\n",
       "454494     1\n",
       "430131     1\n",
       "430132     1\n",
       "269904     1\n",
       "391986     1\n",
       "251355     1\n",
       "400714     1\n",
       "148579     1\n",
       "209721     1\n",
       "22650      1\n",
       "422784     1\n",
       "454488     1\n",
       "330172     1\n",
       "449329     1\n",
       "133339     1\n",
       "235224     1\n",
       "411624     1\n",
       "153862     1\n",
       "463633     1\n",
       "224224     1\n",
       "306248     1\n",
       "28634      1\n",
       "251341     1\n",
       "131032     1\n",
       "257847     1\n",
       "164701     1\n",
       "          ..\n",
       "154290    12\n",
       "413957    12\n",
       "476800    12\n",
       "437393    12\n",
       "251061    12\n",
       "134366    12\n",
       "412687    12\n",
       "174623    12\n",
       "412686    12\n",
       "445374    12\n",
       "422905    12\n",
       "384586    13\n",
       "475090    13\n",
       "60130     13\n",
       "415843    13\n",
       "260407    13\n",
       "31998     13\n",
       "19977     13\n",
       "425520    13\n",
       "31918     13\n",
       "86117     13\n",
       "448713    13\n",
       "50178     13\n",
       "397057    13\n",
       "369809    13\n",
       "252302    13\n",
       "184937    13\n",
       "203230    13\n",
       "471311    13\n",
       "295927    14\n",
       "Name: predict_category_property, dtype: int64"
      ]
     },
     "execution_count": 141,
     "metadata": {},
     "output_type": "execute_result"
    }
   ],
   "source": [
    "item_property_cnt=data_train1['predict_category_property'].map(lambda x : len(x.split(';')))\n",
    "item_property_cnt.sort_values()"
   ]
  },
  {
   "cell_type": "code",
   "execution_count": 142,
   "metadata": {
    "collapsed": false
   },
   "outputs": [
    {
     "data": {
      "text/plain": [
       "['8277336076276184272:-1',\n",
       " '5799347067982556520:-1',\n",
       " '509660095530134768:2636395404473730413',\n",
       " '7908382889764677758:-1']"
      ]
     },
     "execution_count": 142,
     "metadata": {},
     "output_type": "execute_result"
    }
   ],
   "source": [
    "data_test['predict_category_property'][0].split(';')"
   ]
  },
  {
   "cell_type": "code",
   "execution_count": 143,
   "metadata": {
    "collapsed": false
   },
   "outputs": [
    {
     "data": {
      "text/plain": [
       "['5755694407684602296:216555019471416386,2636395404473730413',\n",
       " '8710739180200009128:-1',\n",
       " '7908382889764677758:216555019471416386,2636395404473730413',\n",
       " '9121432215720987772:-1',\n",
       " '8257512457089702259:-1',\n",
       " '8896700187874717254:-1']"
      ]
     },
     "execution_count": 143,
     "metadata": {},
     "output_type": "execute_result"
    }
   ],
   "source": [
    "data_test['predict_category_property'][1].split(';')"
   ]
  },
  {
   "cell_type": "markdown",
   "metadata": {},
   "source": [
    "太乱了搞不定！！！！！！！！！！！！！！！！！！！！！！！！！！！！"
   ]
  },
  {
   "cell_type": "markdown",
   "metadata": {},
   "source": [
    "21.shop_review_num_level 店铺的评价数量等级，Int类型；取值从0开始，数值越大表示评价数量越多  25类"
   ]
  },
  {
   "cell_type": "code",
   "execution_count": 146,
   "metadata": {
    "collapsed": false
   },
   "outputs": [
    {
     "data": {
      "image/png": "[encoded data removed]",
      "text/plain": [
       "<matplotlib.figure.Figure at 0x14ca29c88>"
      ]
     },
     "metadata": {},
     "output_type": "display_data"
    },
    {
     "name": "stdout",
     "output_type": "stream",
     "text": [
      " Train Data Cnt 1 per 分位数 4.7  \n",
      " Train Data Cnt 10 per 分位数 44.0 \n",
      " Train Data Cnt 50 per 分位数 5484.0 \n",
      " Train Data Cnt 90 per 分位数 59857.8 \n",
      " Train Data Cnt 99 per 分位数 80913.4\n",
      " 训练集拥有分类数25.0 检验集拥有分类数21.0 共有有分类数25.0 \n",
      " 训练集最多分类样本数81426.0 训练集最少分类样本数4.0 检验集新分类数样本数0.0\n"
     ]
    }
   ],
   "source": [
    "cat('shop_review_num_level',50) "
   ]
  },
  {
   "cell_type": "markdown",
   "metadata": {},
   "source": [
    "22.shop_review_positive_rate 店铺的好评率，Double类型；取值在0到1之间，数值越大表示好评率越高，是个连续变量，直接入摸即可"
   ]
  },
  {
   "cell_type": "code",
   "execution_count": 151,
   "metadata": {
    "collapsed": false
   },
   "outputs": [
    {
     "data": {
      "image/png": "[encoded data removed]",
      "text/plain": [
       "<matplotlib.figure.Figure at 0x14c36d748>"
      ]
     },
     "metadata": {},
     "output_type": "display_data"
    },
    {
     "name": "stdout",
     "output_type": "stream",
     "text": [
      " Train Data Cnt 1 per 分位数 1.0  \n",
      " Train Data Cnt 10 per 分位数 1.0 \n",
      " Train Data Cnt 50 per 分位数 5.0 \n",
      " Train Data Cnt 90 per 分位数 40.0 \n",
      " Train Data Cnt 99 per 分位数 198.0\n",
      " 训练集拥有分类数11825.0 检验集拥有分类数1302.0 共有有分类数13021.0 \n",
      " 训练集最多分类样本数265908.0 训练集最少分类样本数1.0 检验集新分类数样本数7988.0\n"
     ]
    }
   ],
   "source": [
    "cat('shop_review_positive_rate',150) "
   ]
  },
  {
   "cell_type": "markdown",
   "metadata": {},
   "source": [
    "23.shop_star_level 店铺的星级编号，Int类型；取值从0开始，数值越大表示店铺的星级越高  共22个类"
   ]
  },
  {
   "cell_type": "code",
   "execution_count": 154,
   "metadata": {
    "collapsed": false
   },
   "outputs": [
    {
     "data": {
      "image/png": "[encoded data removed]",
      "text/plain": [
       "<matplotlib.figure.Figure at 0x14d4b8940>"
      ]
     },
     "metadata": {},
     "output_type": "display_data"
    },
    {
     "name": "stdout",
     "output_type": "stream",
     "text": [
      " Train Data Cnt 1 per 分位数 18.1  \n",
      " Train Data Cnt 10 per 分位数 71.1 \n",
      " Train Data Cnt 50 per 分位数 6990.0 \n",
      " Train Data Cnt 90 per 分位数 73943.9 \n",
      " Train Data Cnt 99 per 分位数 82417.9\n",
      " 训练集拥有分类数22.0 检验集拥有分类数20.0 共有有分类数22.0 \n",
      " 训练集最多分类样本数82639.0 训练集最少分类样本数7.0 检验集新分类数样本数0.0\n"
     ]
    }
   ],
   "source": [
    "cat('shop_star_level',150) "
   ]
  },
  {
   "cell_type": "markdown",
   "metadata": {},
   "source": [
    "24.shop_score_service 店铺的服务态度评分，Double类型；取值在0到1之间，数值越大表示评分越高 连续变量，入模即可"
   ]
  },
  {
   "cell_type": "markdown",
   "metadata": {},
   "source": [
    "25.shop_score_delivery 店铺的物流服务评分，Double类型；取值在0到1之间，数值越大表示评分越高"
   ]
  },
  {
   "cell_type": "markdown",
   "metadata": {},
   "source": [
    "26.shop_score_description 店铺的描述相符评分，Double类型；取值在0到1之间，数值越大表示评分越高"
   ]
  }
 ],
 "metadata": {
  "kernelspec": {
   "display_name": "Python 3",
   "language": "python",
   "name": "python3"
  },
  "language_info": {
   "codemirror_mode": {
    "name": "ipython",
    "version": 3
   },
   "file_extension": ".py",
   "mimetype": "text/x-python",
   "name": "python",
   "nbconvert_exporter": "python",
   "pygments_lexer": "ipython3",
   "version": "3.6.0"
  }
 },
 "nbformat": 4,
 "nbformat_minor": 2
}
